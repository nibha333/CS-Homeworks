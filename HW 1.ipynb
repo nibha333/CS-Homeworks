{
 "cells": [
  {
   "cell_type": "code",
   "execution_count": 57,
   "metadata": {},
   "outputs": [],
   "source": [
    "\n",
    "import pandas as pd\n",
    "import numpy as np\n",
    "from sklearn.metrics import confusion_matrix, roc_curve, roc_auc_score\n",
    "from sklearn.preprocessing import label_binarize\n",
    "import matplotlib.pyplot as plt \n",
    "import seaborn as sns\n",
    "   \n",
    "import scikitplot as skplt"
   ]
  },
  {
   "cell_type": "code",
   "execution_count": 58,
   "metadata": {},
   "outputs": [],
   "source": [
    "# Import `os` \n",
    "import os\n",
    "\n",
    "# Retrieve current working directory (`cwd`)\n",
    "cwd = os.getcwd()\n",
    "\n",
    "\n",
    "# # Change directory \n",
    "# os.chdir(\"/path/to/your/folder\")\n",
    "\n",
    "# # List all files and directories in current directory\n",
    "# os.listdir('.')"
   ]
  },
  {
   "cell_type": "code",
   "execution_count": 59,
   "metadata": {},
   "outputs": [],
   "source": [
    "dataset=pd.read_excel('CMPS_441_Assignment_1_DataSample.xlsx')\n",
    "# dataset.head()"
   ]
  },
  {
   "cell_type": "code",
   "execution_count": 60,
   "metadata": {},
   "outputs": [],
   "source": [
    "threshold=[0.25,0.35,0.55,0.65,0.75]\n",
    "predict_score=dataset['Predicted Class Score']\n",
    "true_label=dataset['Actual Class Label']"
   ]
  },
  {
   "cell_type": "code",
   "execution_count": 61,
   "metadata": {},
   "outputs": [],
   "source": [
    "# http://www.tarekatwan.com/index.php/2017/12/how-to-plot-a-confusion-matrix-in-python/"
   ]
  },
  {
   "cell_type": "code",
   "execution_count": 70,
   "metadata": {},
   "outputs": [],
   "source": [
    "def con(predict_score,true_label,thresh):\n",
    "    \n",
    "    target_pred=[]\n",
    "    for j in range(len(predict_score)):\n",
    "#         print(predict_score)\n",
    "#         print(thresh)\n",
    "        if (predict_score[j]<= thresh):\n",
    "            target_pred.insert(j,'Not Cancer')\n",
    "        else:\n",
    "            target_pred.insert(j,'Cancer')\n",
    "        \n",
    "    tn, fp, fn, tp = confusion_matrix(true_label,target_pred).ravel() \n",
    "#     print(tn, fp, fn, tp)\n",
    "    cm=confusion_matrix(true_label,target_pred)\n",
    "    \n",
    "#     print(cm)\n",
    "#   [imshow(X=array, cmap=colormap]] \n",
    "    plt.imshow(cm,cmap=plt.cm.GnBu)\n",
    "    \n",
    "    classNames = ['Not Cancer','Cancer']\n",
    "    plt.title('Confusion Matrix When Threshold is {}'.format(thresh))\n",
    "    plt.ylabel('True label')\n",
    "    plt.xlabel('Predicted label')\n",
    "    \n",
    "    tick_marks = np.arange(len(classNames))\n",
    "    #tick_marks= array([0, 1])\n",
    "    \n",
    "#     matplotlib.pyplot.yticks(ticks=array like list of positions, labels=array like list of labels, **kwargs)\n",
    "\n",
    "    plt.xticks(tick_marks, classNames, rotation=45) \n",
    "    plt.yticks(tick_marks, classNames)\n",
    "    \n",
    "    \n",
    "#[00 01]\n",
    "#[10 11]\n",
    "    s = [['TN','FP'], ['FN', 'TP']]\n",
    "    for i in range(2):\n",
    "        for j in range(2):\n",
    "            plt.text(i,j, str(s[i][j])+\" = \"+str(cm[i][j]))\n",
    "    plt.show()\n",
    "\n",
    "\n",
    "    tpr= tp/(tp+fn) #sensitivity\n",
    "    spec=tn/(fp+tn)\n",
    "    fpr=1-(spec) #1-specificity\n",
    "    print(tpr)\n",
    "    print(fpr)\n",
    "    return(tpr,fpr)\n"
   ]
  },
  {
   "cell_type": "code",
   "execution_count": null,
   "metadata": {},
   "outputs": [],
   "source": []
  },
  {
   "cell_type": "code",
   "execution_count": null,
   "metadata": {},
   "outputs": [],
   "source": []
  },
  {
   "cell_type": "code",
   "execution_count": 71,
   "metadata": {},
   "outputs": [
    {
     "name": "stdout",
     "output_type": "stream",
     "text": [
      "16 1 9 3\n",
      "[[16  1]\n",
      " [ 9  3]]\n"
     ]
    },
    {
     "data": {
      "image/png": "[encoded data removed]",
      "text/plain": [
       "<matplotlib.figure.Figure at 0x1a87d1bf6a0>"
      ]
     },
     "metadata": {},
     "output_type": "display_data"
    },
    {
     "name": "stdout",
     "output_type": "stream",
     "text": [
      "0.25\n",
      "0.05882352941176472\n"
     ]
    }
   ],
   "source": [
    "thresh0=con(predict_score,true_label,0.25)\n",
    "# thresh1=con(predict_score,true_label,threshold[1])\n",
    "# thresh2=con(predict_score,true_label,0.55)\n",
    "# thresh3=con(predict_score,true_label,0.65)\n",
    "# thresh4=con(predict_score,true_label,0.75)\n",
    "\n"
   ]
  },
  {
   "cell_type": "code",
   "execution_count": 64,
   "metadata": {},
   "outputs": [
    {
     "name": "stdout",
     "output_type": "stream",
     "text": [
      "(0.25, 0.05882352941176472)\n",
      "(0.5, 0.11764705882352944)\n",
      "(0.9166666666666666, 0.2941176470588235)\n",
      "(0.9166666666666666, 0.4117647058823529)\n",
      "(1.0, 0.5294117647058824)\n"
     ]
    }
   ],
   "source": [
    "print(thresh0)\n",
    "print(thresh1)\n",
    "print(thresh2)\n",
    "print(thresh3)\n",
    "print(thresh4)"
   ]
  },
  {
   "cell_type": "code",
   "execution_count": 65,
   "metadata": {},
   "outputs": [],
   "source": [
    "# Binarize the output\n",
    "\n",
    "\n",
    "# from sklearn.preprocessing import LabelEncoder\n",
    "\n",
    "# lb_make = LabelEncoder()\n",
    "# a= lb_make.fit_transform(true_label)\n",
    "# a"
   ]
  },
  {
   "cell_type": "code",
   "execution_count": 66,
   "metadata": {},
   "outputs": [
    {
     "name": "stdout",
     "output_type": "stream",
     "text": [
      "[0.05882352941176472, 0.11764705882352944, 0.2941176470588235, 0.4117647058823529, 0.5294117647058824]\n",
      "[0.25, 0.5, 0.9166666666666666, 0.9166666666666666, 1.0]\n"
     ]
    },
    {
     "data": {
      "image/png": "[encoded data removed]",
      "text/plain": [
       "<matplotlib.figure.Figure at 0x1a87ce0fef0>"
      ]
     },
     "metadata": {},
     "output_type": "display_data"
    }
   ],
   "source": [
    "x_fpr=[thresh0[1],thresh1[1],thresh2[1],thresh3[1],thresh4[1]] #fpr or 100-specificty\n",
    "print(x_fpr)\n",
    "y_tpr=[thresh0[0],thresh1[0],thresh2[0],thresh3[0],thresh4[0]] #sensitivity\n",
    "print(y_tpr)\n",
    "\n",
    "a=[0, 0, 0, 0, 0, 0, 0, 0, 0, 0, 0, 0, 1, 1,1, 1, 1, 1, 1, 1, 1, 1,1, 1, 1, 1, 1, 1, 1]              \n",
    "t_auc=roc_auc_score(a,predict_score)\n",
    "t_auc\n",
    "\n",
    "plt.title('ROC Curve')\n",
    "plt.plot(x_fpr,y_tpr, color='cornflowerblue',lw=2, label='(AUC = %0.2f)' % t_auc)\n",
    "# plt.plot(x_fpr,y_tpr, color='cornflowerblue',lw=2, label='(AUC = {})'.format(t_auc))\n",
    "\n",
    "\n",
    "plt.legend(loc = 'lower right')\n",
    "plt.ylabel('True Positive Rate')\n",
    "plt.xlabel('False Positive Rate')\n",
    "plt.show()\n",
    "\n"
   ]
  },
  {
   "cell_type": "code",
   "execution_count": null,
   "metadata": {},
   "outputs": [],
   "source": []
  },
  {
   "cell_type": "code",
   "execution_count": null,
   "metadata": {},
   "outputs": [],
   "source": [
    "'use this for excel sheet with multiple sheets'\n",
    "\n",
    "# # Assign spreadsheet filename to `file`\n",
    "# file= 'CMPS_441_Assignment_1_DataSample.xlsx'\n",
    "\n",
    "#  # Load spreadsheet\n",
    "# xl=pd.ExcelFile(file)\n",
    "\n",
    "# # Print the sheet names\n",
    "# print(xl.sheet_names)\n",
    " # Load a sheet into a DataFrame by name: df1\n",
    "# df1=xl.parse('Sample_Data_Prediction_Scores')"
   ]
  },
  {
   "cell_type": "code",
   "execution_count": null,
   "metadata": {},
   "outputs": [],
   "source": []
  },
  {
   "cell_type": "code",
   "execution_count": null,
   "metadata": {},
   "outputs": [],
   "source": []
  }
 ],
 "metadata": {
  "kernelspec": {
   "display_name": "Python 3",
   "language": "python",
   "name": "python3"
  },
  "language_info": {
   "codemirror_mode": {
    "name": "ipython",
    "version": 3
   },
   "file_extension": ".py",
   "mimetype": "text/x-python",
   "name": "python",
   "nbconvert_exporter": "python",
   "pygments_lexer": "ipython3",
   "version": "3.7.3"
  }
 },
 "nbformat": 4,
 "nbformat_minor": 2
}
